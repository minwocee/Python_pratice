{
 "cells": [
  {
   "cell_type": "code",
   "execution_count": null,
   "metadata": {},
   "outputs": [],
   "source": [
    "# 실수형 온도를 입력 받는 곳\n",
    "import sys\n",
    "\n",
    "day=list(map(float, sys.stdin.readline().strip().split()))\n",
    "\n",
    "\n",
    "print(\"온도의 평균\", sum(day)/len(day))"
   ]
  },
  {
   "cell_type": "code",
   "execution_count": null,
   "metadata": {},
   "outputs": [],
   "source": [
    "# 기본 IF 문\n",
    "\n",
    "a=99\n",
    "\n",
    "if a>100:    # 부호가 바뀌면, 실행이 안된다.\n",
    "    print(\"100보다 작습니다.\")"
   ]
  },
  {
   "cell_type": "code",
   "execution_count": null,
   "metadata": {},
   "outputs": [
    {
     "name": "stdout",
     "output_type": "stream",
     "text": [
      "100보다 크네요\n"
     ]
    }
   ],
   "source": [
    "# if-else 문\n",
    "\n",
    "a=200\n",
    "\n",
    "if a<100:\n",
    "    print(\"100보다 작군요\")\n",
    "else:\n",
    "    print(\"100보다 크네요\")"
   ]
  },
  {
   "cell_type": "code",
   "execution_count": 5,
   "metadata": {},
   "outputs": [
    {
     "name": "stdout",
     "output_type": "stream",
     "text": [
      "A+\n"
     ]
    }
   ],
   "source": [
    "score = int(input('숫자 입력: '))\n",
    "\n",
    "if score >= 95:\n",
    "    print('A+')\n",
    "elif score >= 90:\n",
    "    print('A0')\n",
    "elif score >= 85:\n",
    "    print('B+')\n",
    "elif score >= 80:\n",
    "    print('B0')\n",
    "elif score >= 75:\n",
    "    print('C+')\n",
    "elif score >= 70:\n",
    "    print('C0')\n",
    "elif score >= 65:\n",
    "    print('D+')\n",
    "elif score >= 60:\n",
    "    print('D0')\n",
    "else:\n",
    "    print('F학점(재수강)')"
   ]
  }
 ],
 "metadata": {
  "kernelspec": {
   "display_name": "Python 3",
   "language": "python",
   "name": "python3"
  },
  "language_info": {
   "codemirror_mode": {
    "name": "ipython",
    "version": 3
   },
   "file_extension": ".py",
   "mimetype": "text/x-python",
   "name": "python",
   "nbconvert_exporter": "python",
   "pygments_lexer": "ipython3",
   "version": "3.11.1 (tags/v3.11.1:a7a450f, Dec  6 2022, 19:58:39) [MSC v.1934 64 bit (AMD64)]"
  },
  "orig_nbformat": 4,
  "vscode": {
   "interpreter": {
    "hash": "045e4db5da8b967fe9357b3f1c985609572601dfa03a7721cf01075ac1df2eb3"
   }
  }
 },
 "nbformat": 4,
 "nbformat_minor": 2
}
