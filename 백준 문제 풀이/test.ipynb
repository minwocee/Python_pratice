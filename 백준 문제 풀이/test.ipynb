{
 "cells": [
  {
   "cell_type": "code",
   "execution_count": null,
   "metadata": {},
   "outputs": [],
   "source": []
  },
  {
   "cell_type": "code",
   "execution_count": 1,
   "metadata": {},
   "outputs": [
    {
     "name": "stdout",
     "output_type": "stream",
     "text": [
      "70\n"
     ]
    }
   ],
   "source": [
    "def time(text):\n",
    "    # '01:10'을 초로 변환하는 함수\n",
    "    text = list(text.split(':'))\n",
    "    timer = int(text[0])*60 + int(text[1])\n",
    "    return timer\n",
    "\n",
    "print(time('01:10'))"
   ]
  },
  {
   "cell_type": "code",
   "execution_count": 3,
   "metadata": {},
   "outputs": [
    {
     "name": "stdout",
     "output_type": "stream",
     "text": [
      "012\n",
      "01\n",
      "0\n",
      "\n"
     ]
    }
   ],
   "source": [
    "text_len = len('ABCD')\n",
    "\n",
    "for i in range(text_len-1, -1, -1):\n",
    "            \n",
    "            for k in range(0, i):\n",
    "                print(k, end ='')\n",
    "                \n",
    "            print()"
   ]
  }
 ],
 "metadata": {
  "kernelspec": {
   "display_name": "Python 3",
   "language": "python",
   "name": "python3"
  },
  "language_info": {
   "codemirror_mode": {
    "name": "ipython",
    "version": 3
   },
   "file_extension": ".py",
   "mimetype": "text/x-python",
   "name": "python",
   "nbconvert_exporter": "python",
   "pygments_lexer": "ipython3",
   "version": "3.11.1"
  },
  "orig_nbformat": 4,
  "vscode": {
   "interpreter": {
    "hash": "045e4db5da8b967fe9357b3f1c985609572601dfa03a7721cf01075ac1df2eb3"
   }
  }
 },
 "nbformat": 4,
 "nbformat_minor": 2
}
